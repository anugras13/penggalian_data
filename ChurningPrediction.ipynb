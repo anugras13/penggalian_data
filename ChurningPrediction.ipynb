{
  "nbformat": 4,
  "nbformat_minor": 0,
  "metadata": {
    "colab": {
      "provenance": []
    },
    "kernelspec": {
      "name": "python3",
      "display_name": "Python 3"
    },
    "language_info": {
      "name": "python"
    }
  },
  "cells": [
    {
      "cell_type": "code",
      "execution_count": null,
      "metadata": {
        "id": "KpVkN1QOr3xl"
      },
      "outputs": [],
      "source": [
        "import pandas as pd\n",
        "import numpy as np\n",
        "import matplotlib.pyplot as plt\n",
        "import datetime as dt\n",
        "import seaborn as sns\n",
        "from sklearn.model_selection import train_test_split\n",
        "from imblearn.over_sampling import RandomOverSampler\n",
        "from sklearn.preprocessing import StandardScaler\n",
        "from sklearn.model_selection import GridSearchCV, RandomizedSearchCV\n",
        "from sklearn.model_selection import KFold, StratifiedKFold, RepeatedKFold, RepeatedStratifiedKFold, ShuffleSplit, StratifiedShuffleSplit\n",
        "from sklearn.pipeline import Pipeline\n",
        "from sklearn.metrics import ConfusionMatrixDisplay\n",
        "from sklearn.impute import SimpleImputer\n",
        "from sklearn.compose import make_column_transformer\n",
        "from sklearn.metrics import accuracy_score\n",
        "from sklearn.pipeline import make_pipeline"
      ]
    },
    {
      "cell_type": "markdown",
      "source": [
        "# Exploratory\n",
        "\n"
      ],
      "metadata": {
        "id": "ClesCRmx5yk6"
      }
    },
    {
      "cell_type": "code",
      "source": [
        "customer_data = pd.read_csv('ecommerce_customer_data_custom_ratios.csv')"
      ],
      "metadata": {
        "id": "kG4m1KfgsTzE"
      },
      "execution_count": null,
      "outputs": []
    },
    {
      "cell_type": "code",
      "source": [
        "customer_data.info()"
      ],
      "metadata": {
        "colab": {
          "base_uri": "https://localhost:8080/"
        },
        "id": "HLcyekXctD9e",
        "outputId": "0db1f409-1ccf-476e-db4d-807fe0cd5a25"
      },
      "execution_count": null,
      "outputs": [
        {
          "output_type": "stream",
          "name": "stdout",
          "text": [
            "<class 'pandas.core.frame.DataFrame'>\n",
            "RangeIndex: 250000 entries, 0 to 249999\n",
            "Data columns (total 13 columns):\n",
            " #   Column                 Non-Null Count   Dtype  \n",
            "---  ------                 --------------   -----  \n",
            " 0   Customer ID            250000 non-null  int64  \n",
            " 1   Purchase Date          250000 non-null  object \n",
            " 2   Product Category       250000 non-null  object \n",
            " 3   Product Price          250000 non-null  int64  \n",
            " 4   Quantity               250000 non-null  int64  \n",
            " 5   Total Purchase Amount  250000 non-null  int64  \n",
            " 6   Payment Method         250000 non-null  object \n",
            " 7   Customer Age           250000 non-null  int64  \n",
            " 8   Returns                202404 non-null  float64\n",
            " 9   Customer Name          250000 non-null  object \n",
            " 10  Age                    250000 non-null  int64  \n",
            " 11  Gender                 250000 non-null  object \n",
            " 12  Churn                  250000 non-null  int64  \n",
            "dtypes: float64(1), int64(7), object(5)\n",
            "memory usage: 24.8+ MB\n"
          ]
        }
      ]
    },
    {
      "cell_type": "code",
      "source": [
        "customer_data.isnull().sum()"
      ],
      "metadata": {
        "colab": {
          "base_uri": "https://localhost:8080/"
        },
        "id": "lMEWtVRPuLyj",
        "outputId": "d7fd191c-24a0-4d8a-8a35-a05eec03180c"
      },
      "execution_count": null,
      "outputs": [
        {
          "output_type": "execute_result",
          "data": {
            "text/plain": [
              "Customer ID                  0\n",
              "Purchase Date                0\n",
              "Product Category             0\n",
              "Product Price                0\n",
              "Quantity                     0\n",
              "Total Purchase Amount        0\n",
              "Payment Method               0\n",
              "Customer Age                 0\n",
              "Returns                  47596\n",
              "Customer Name                0\n",
              "Age                          0\n",
              "Gender                       0\n",
              "Churn                        0\n",
              "dtype: int64"
            ]
          },
          "metadata": {},
          "execution_count": 4
        }
      ]
    },
    {
      "cell_type": "code",
      "source": [
        "customer_data.duplicated().sum()"
      ],
      "metadata": {
        "colab": {
          "base_uri": "https://localhost:8080/"
        },
        "id": "YG6sxPn5uajv",
        "outputId": "aa03d2ef-1679-4034-80dc-5d628d7b21e0"
      },
      "execution_count": null,
      "outputs": [
        {
          "output_type": "execute_result",
          "data": {
            "text/plain": [
              "0"
            ]
          },
          "metadata": {},
          "execution_count": 5
        }
      ]
    },
    {
      "cell_type": "code",
      "source": [
        "customer_data[\"Customer ID\"].value_counts()"
      ],
      "metadata": {
        "colab": {
          "base_uri": "https://localhost:8080/"
        },
        "id": "wkDKBOGYugwQ",
        "outputId": "fa3ff471-fd34-4a98-eb12-9c4077656ea5"
      },
      "execution_count": null,
      "outputs": [
        {
          "output_type": "execute_result",
          "data": {
            "text/plain": [
              "36437    17\n",
              "47087    17\n",
              "39817    17\n",
              "5252     15\n",
              "14400    15\n",
              "         ..\n",
              "6861      1\n",
              "49276     1\n",
              "40043     1\n",
              "31599     1\n",
              "16971     1\n",
              "Name: Customer ID, Length: 49673, dtype: int64"
            ]
          },
          "metadata": {},
          "execution_count": 6
        }
      ]
    },
    {
      "cell_type": "code",
      "source": [
        "customer_data[\"Product Category\"].value_counts()"
      ],
      "metadata": {
        "colab": {
          "base_uri": "https://localhost:8080/"
        },
        "id": "wrcJ6QnUuudC",
        "outputId": "bd079546-1a99-4c24-e72c-9467d866bb37"
      },
      "execution_count": null,
      "outputs": [
        {
          "output_type": "execute_result",
          "data": {
            "text/plain": [
              "Clothing       75052\n",
              "Books          74912\n",
              "Electronics    50185\n",
              "Home           49851\n",
              "Name: Product Category, dtype: int64"
            ]
          },
          "metadata": {},
          "execution_count": 7
        }
      ]
    },
    {
      "cell_type": "code",
      "source": [
        "customer_data[\"Quantity\"].value_counts()"
      ],
      "metadata": {
        "colab": {
          "base_uri": "https://localhost:8080/"
        },
        "id": "qkQC_OBcvAsU",
        "outputId": "83ec13b4-4c42-48e1-a80d-9433cc324de0"
      },
      "execution_count": null,
      "outputs": [
        {
          "output_type": "execute_result",
          "data": {
            "text/plain": [
              "1    50108\n",
              "4    50037\n",
              "2    50021\n",
              "5    49962\n",
              "3    49872\n",
              "Name: Quantity, dtype: int64"
            ]
          },
          "metadata": {},
          "execution_count": 8
        }
      ]
    },
    {
      "cell_type": "code",
      "source": [
        "customer_data[\"Total Purchase Amount\"].value_counts()"
      ],
      "metadata": {
        "colab": {
          "base_uri": "https://localhost:8080/"
        },
        "id": "qb2KZK7AvSiL",
        "outputId": "8c58b8ac-955c-46a2-eb32-77a275416bc3"
      },
      "execution_count": null,
      "outputs": [
        {
          "output_type": "execute_result",
          "data": {
            "text/plain": [
              "2786    80\n",
              "823     75\n",
              "1088    74\n",
              "857     73\n",
              "617     72\n",
              "        ..\n",
              "5344     1\n",
              "109      1\n",
              "5347     1\n",
              "113      1\n",
              "5341     1\n",
              "Name: Total Purchase Amount, Length: 5247, dtype: int64"
            ]
          },
          "metadata": {},
          "execution_count": 9
        }
      ]
    },
    {
      "cell_type": "code",
      "source": [
        "customer_data[\"Payment Method\"].value_counts()"
      ],
      "metadata": {
        "colab": {
          "base_uri": "https://localhost:8080/"
        },
        "id": "-HOQQuEYvXnk",
        "outputId": "7ff8e8ac-14de-41e9-b52d-59de20991217"
      },
      "execution_count": null,
      "outputs": [
        {
          "output_type": "execute_result",
          "data": {
            "text/plain": [
              "Credit Card    100486\n",
              "PayPal          74837\n",
              "Cash            49894\n",
              "Crypto          24783\n",
              "Name: Payment Method, dtype: int64"
            ]
          },
          "metadata": {},
          "execution_count": 10
        }
      ]
    },
    {
      "cell_type": "code",
      "source": [
        "customer_data[\"Customer Age\"].value_counts()"
      ],
      "metadata": {
        "colab": {
          "base_uri": "https://localhost:8080/"
        },
        "id": "0L7AnbUIvd9b",
        "outputId": "7f0361ff-00c7-49d4-a17a-524bea7c3675"
      },
      "execution_count": null,
      "outputs": [
        {
          "output_type": "execute_result",
          "data": {
            "text/plain": [
              "58    5009\n",
              "18    5003\n",
              "51    4999\n",
              "70    4989\n",
              "21    4989\n",
              "27    4967\n",
              "64    4967\n",
              "46    4912\n",
              "41    4910\n",
              "49    4881\n",
              "42    4867\n",
              "56    4833\n",
              "60    4813\n",
              "31    4806\n",
              "43    4800\n",
              "61    4787\n",
              "22    4783\n",
              "34    4782\n",
              "30    4779\n",
              "28    4770\n",
              "40    4760\n",
              "38    4759\n",
              "23    4758\n",
              "68    4744\n",
              "19    4740\n",
              "24    4706\n",
              "63    4701\n",
              "67    4695\n",
              "55    4692\n",
              "20    4692\n",
              "25    4678\n",
              "39    4677\n",
              "26    4663\n",
              "69    4656\n",
              "45    4639\n",
              "37    4635\n",
              "29    4629\n",
              "47    4606\n",
              "66    4602\n",
              "65    4594\n",
              "50    4582\n",
              "52    4574\n",
              "33    4574\n",
              "44    4572\n",
              "36    4567\n",
              "53    4545\n",
              "62    4534\n",
              "35    4520\n",
              "48    4497\n",
              "54    4465\n",
              "59    4458\n",
              "57    4424\n",
              "32    4416\n",
              "Name: Customer Age, dtype: int64"
            ]
          },
          "metadata": {},
          "execution_count": 11
        }
      ]
    },
    {
      "cell_type": "code",
      "source": [
        "customer_data[\"Returns\"].value_counts(dropna=False)"
      ],
      "metadata": {
        "colab": {
          "base_uri": "https://localhost:8080/"
        },
        "id": "FDhA2VuhviTD",
        "outputId": "fba43f70-685a-4089-f889-a032b6e84aa6"
      },
      "execution_count": null,
      "outputs": [
        {
          "output_type": "execute_result",
          "data": {
            "text/plain": [
              "0.0    101635\n",
              "1.0    100769\n",
              "NaN     47596\n",
              "Name: Returns, dtype: int64"
            ]
          },
          "metadata": {},
          "execution_count": 12
        }
      ]
    },
    {
      "cell_type": "code",
      "source": [
        "customer_data[\"Gender\"].value_counts()"
      ],
      "metadata": {
        "colab": {
          "base_uri": "https://localhost:8080/"
        },
        "id": "7TQ3rJWOvm8D",
        "outputId": "36b472bc-6c84-4122-de43-2524bceb55e9"
      },
      "execution_count": null,
      "outputs": [
        {
          "output_type": "execute_result",
          "data": {
            "text/plain": [
              "Female    125560\n",
              "Male      124440\n",
              "Name: Gender, dtype: int64"
            ]
          },
          "metadata": {},
          "execution_count": 13
        }
      ]
    },
    {
      "cell_type": "code",
      "source": [
        "customer_data[\"Churn\"].value_counts()"
      ],
      "metadata": {
        "colab": {
          "base_uri": "https://localhost:8080/"
        },
        "id": "R0E-yMqRwWGb",
        "outputId": "22d319e9-b572-43b3-ed08-5b4f3ecc91eb"
      },
      "execution_count": null,
      "outputs": [
        {
          "output_type": "execute_result",
          "data": {
            "text/plain": [
              "0    200126\n",
              "1     49874\n",
              "Name: Churn, dtype: int64"
            ]
          },
          "metadata": {},
          "execution_count": 14
        }
      ]
    },
    {
      "cell_type": "markdown",
      "source": [
        "# PreProccess & Viz\n"
      ],
      "metadata": {
        "id": "iMfM1A3S6EMa"
      }
    },
    {
      "cell_type": "code",
      "source": [
        "corr = customer_data.corr('spearman')\n",
        "sns.heatmap(corr,\n",
        "            annot = np.where(np.abs(corr)>0.75,'S', # correlation more than +/- 75% labelled as 'STRONG CORRELATION'\n",
        "                      np.where(np.abs(corr)>0.5,'M', # correlation more than +/- 50% labelled as 'MEDIUM CORRELATION'\n",
        "                           np.where(np.abs(corr)>0.25,'W',''))), # correlation more than +/- 25% labelled as 'WEAK CORRELATION'\n",
        "            mask=np.triu(np.ones_like(corr, dtype=bool)),\n",
        "            square=True,\n",
        "            center=0,fmt='', linewidths=.5,\n",
        "            cmap=\"vlag\", cbar_kws={\"shrink\": 0.8}\n",
        "            )"
      ],
      "metadata": {
        "colab": {
          "base_uri": "https://localhost:8080/",
          "height": 650
        },
        "id": "zFg5XtUR1syt",
        "outputId": "d6da61d8-4bae-43b6-bb48-d9886d742f8e"
      },
      "execution_count": null,
      "outputs": [
        {
          "output_type": "stream",
          "name": "stderr",
          "text": [
            "<ipython-input-15-c4c5e9d3e319>:1: FutureWarning: The default value of numeric_only in DataFrame.corr is deprecated. In a future version, it will default to False. Select only valid columns or specify the value of numeric_only to silence this warning.\n",
            "  corr = customer_data.corr('spearman')\n"
          ]
        },
        {
          "output_type": "execute_result",
          "data": {
            "text/plain": [
              "<Axes: >"
            ]
          },
          "metadata": {},
          "execution_count": 15
        },
        {
          "output_type": "display_data",
          "data": {
            "text/plain": [
              "<Figure size 640x480 with 2 Axes>"
            ],
            "image/png": "[encoded data removed]"
          },
          "metadata": {}
        }
      ]
    },
    {
      "cell_type": "code",
      "source": [
        "# Drop multiple columns in one statement\n",
        "cd_p = customer_data.drop(columns=['Age', 'Customer ID', 'Customer Name','Purchase Date'])\n"
      ],
      "metadata": {
        "id": "uRQGZ0qq4Biy"
      },
      "execution_count": null,
      "outputs": []
    },
    {
      "cell_type": "code",
      "source": [
        "cd_p = cd_p.dropna()"
      ],
      "metadata": {
        "id": "r3U4rpUf4aXp"
      },
      "execution_count": null,
      "outputs": []
    },
    {
      "cell_type": "code",
      "source": [
        "fig = plt.figure(figsize=(12, 5))\n",
        "fig.add_subplot(131)\n",
        "ax = sns.countplot(data=cd_p, x='Product Category')\n",
        "ax.set(title='Product Category Counting', ylabel='Counting')\n",
        "for label in ax.containers:\n",
        "    ax.bar_label(label)\n",
        "\n",
        "\n",
        "fig.add_subplot(132)\n",
        "ax = sns.countplot(data=cd_p, x='Payment Method')\n",
        "ax.set(title='Payment Method Counting', ylabel='Counting')\n",
        "for label in ax.containers:\n",
        "    ax.bar_label(label)\n",
        "\n",
        "fig.add_subplot(133)\n",
        "ax = sns.countplot(data=cd_p, x='Gender')\n",
        "ax.set(title='Gender Counting', ylabel='Counting')\n",
        "for label in ax.containers:\n",
        "    ax.bar_label(label)\n",
        "\n",
        "plt.subplots_adjust(hspace=.5, wspace=.4)\n",
        "plt.suptitle('Categorical Column Counting')\n",
        "plt.show()"
      ],
      "metadata": {
        "colab": {
          "base_uri": "https://localhost:8080/",
          "height": 515
        },
        "id": "UkkSO7st4xLq",
        "outputId": "5850423c-67fb-4909-d40a-82be6d359643"
      },
      "execution_count": null,
      "outputs": [
        {
          "output_type": "display_data",
          "data": {
            "text/plain": [
              "<Figure size 1200x500 with 3 Axes>"
            ],
            "image/png": "[encoded data removed]"
          },
          "metadata": {}
        }
      ]
    },
    {
      "cell_type": "code",
      "source": [
        "# Menghitung matriks korelasi\n",
        "correlation_matrix = cd_p.corr()\n",
        "\n",
        "# Menentukan ukuran gambar\n",
        "plt.figure(figsize=(10, 8))\n",
        "\n",
        "# Menggambar heatmap korelasi terhadap variabel target 'Churn'\n",
        "sns.heatmap(correlation_matrix[['Churn']], annot=True, cmap='coolwarm', vmin=-1, vmax=1)\n",
        "\n",
        "# Menambahkan judul\n",
        "plt.title(\"Heatmap Korelasi terhadap Variabel Target 'Churn'\")\n",
        "\n",
        "# Menampilkan heatmap\n",
        "plt.show()"
      ],
      "metadata": {
        "colab": {
          "base_uri": "https://localhost:8080/",
          "height": 756
        },
        "id": "eSJTJbOk48pK",
        "outputId": "14df6f14-99f0-4494-d741-82a579a350b6"
      },
      "execution_count": null,
      "outputs": [
        {
          "output_type": "stream",
          "name": "stderr",
          "text": [
            "<ipython-input-19-d5674b855e87>:2: FutureWarning: The default value of numeric_only in DataFrame.corr is deprecated. In a future version, it will default to False. Select only valid columns or specify the value of numeric_only to silence this warning.\n",
            "  correlation_matrix = cd_p.corr()\n"
          ]
        },
        {
          "output_type": "display_data",
          "data": {
            "text/plain": [
              "<Figure size 1000x800 with 2 Axes>"
            ],
            "image/png": "[encoded data removed]"
          },
          "metadata": {}
        }
      ]
    },
    {
      "cell_type": "code",
      "source": [
        "cd_p.info()"
      ],
      "metadata": {
        "colab": {
          "base_uri": "https://localhost:8080/"
        },
        "id": "-R9KU1KJ5XTO",
        "outputId": "2dba0688-7116-4be6-dc24-b0ecab84eba8"
      },
      "execution_count": null,
      "outputs": [
        {
          "output_type": "stream",
          "name": "stdout",
          "text": [
            "<class 'pandas.core.frame.DataFrame'>\n",
            "Int64Index: 202404 entries, 0 to 249999\n",
            "Data columns (total 9 columns):\n",
            " #   Column                 Non-Null Count   Dtype  \n",
            "---  ------                 --------------   -----  \n",
            " 0   Product Category       202404 non-null  object \n",
            " 1   Product Price          202404 non-null  int64  \n",
            " 2   Quantity               202404 non-null  int64  \n",
            " 3   Total Purchase Amount  202404 non-null  int64  \n",
            " 4   Payment Method         202404 non-null  object \n",
            " 5   Customer Age           202404 non-null  int64  \n",
            " 6   Returns                202404 non-null  float64\n",
            " 7   Gender                 202404 non-null  object \n",
            " 8   Churn                  202404 non-null  int64  \n",
            "dtypes: float64(1), int64(5), object(3)\n",
            "memory usage: 15.4+ MB\n"
          ]
        }
      ]
    },
    {
      "cell_type": "code",
      "source": [
        "object_column = ['Gender']\n",
        "cd_pencoded = cd_p.copy()\n",
        "for column in object_column:\n",
        "    cd_p[column] = cd_p[column].astype('category')\n",
        "    cd_p[column] = cd_p[column].cat.codes\n",
        "cd_p"
      ],
      "metadata": {
        "colab": {
          "base_uri": "https://localhost:8080/",
          "height": 423
        },
        "id": "BuhC5L4s-xjS",
        "outputId": "20ad4cff-f234-4f18-b6f7-16074703f1fd"
      },
      "execution_count": null,
      "outputs": [
        {
          "output_type": "execute_result",
          "data": {
            "text/plain": [
              "       Product Category  Product Price  Quantity  Total Purchase Amount  \\\n",
              "0           Electronics             12         3                    740   \n",
              "1                  Home            468         4                   2739   \n",
              "2                  Home            288         2                   3196   \n",
              "3              Clothing            196         1                   3509   \n",
              "4                  Home            449         1                   3452   \n",
              "...                 ...            ...       ...                    ...   \n",
              "249995         Clothing            279         2                   2187   \n",
              "249996             Home             27         1                   3615   \n",
              "249997             Home             17         5                   2466   \n",
              "249998            Books            398         2                   3668   \n",
              "249999      Electronics            425         4                   2370   \n",
              "\n",
              "       Payment Method  Customer Age  Returns  Gender  Churn  \n",
              "0         Credit Card            37      0.0       1      0  \n",
              "1              PayPal            37      0.0       1      0  \n",
              "2              PayPal            37      0.0       1      0  \n",
              "3              PayPal            37      0.0       1      0  \n",
              "4         Credit Card            49      0.0       0      1  \n",
              "...               ...           ...      ...     ...    ...  \n",
              "249995         PayPal            55      1.0       1      1  \n",
              "249996    Credit Card            42      1.0       0      1  \n",
              "249997           Cash            41      0.0       1      0  \n",
              "249998         Crypto            34      0.0       0      1  \n",
              "249999           Cash            36      1.0       0      1  \n",
              "\n",
              "[202404 rows x 9 columns]"
            ],
            "text/html": [
              "\n",
              "  <div id=\"df-892d6ac6-b050-4f06-94e2-31a0d27f3b6d\" class=\"colab-df-container\">\n",
              "    <div>\n",
              "<style scoped>\n",
              "    .dataframe tbody tr th:only-of-type {\n",
              "        vertical-align: middle;\n",
              "    }\n",
              "\n",
              "    .dataframe tbody tr th {\n",
              "        vertical-align: top;\n",
              "    }\n",
              "\n",
              "    .dataframe thead th {\n",
              "        text-align: right;\n",
              "    }\n",
              "</style>\n",
              "<table border=\"1\" class=\"dataframe\">\n",
              "  <thead>\n",
              "    <tr style=\"text-align: right;\">\n",
              "      <th></th>\n",
              "      <th>Product Category</th>\n",
              "      <th>Product Price</th>\n",
              "      <th>Quantity</th>\n",
              "      <th>Total Purchase Amount</th>\n",
              "      <th>Payment Method</th>\n",
              "      <th>Customer Age</th>\n",
              "      <th>Returns</th>\n",
              "      <th>Gender</th>\n",
              "      <th>Churn</th>\n",
              "    </tr>\n",
              "  </thead>\n",
              "  <tbody>\n",
              "    <tr>\n",
              "      <th>0</th>\n",
              "      <td>Electronics</td>\n",
              "      <td>12</td>\n",
              "      <td>3</td>\n",
              "      <td>740</td>\n",
              "      <td>Credit Card</td>\n",
              "      <td>37</td>\n",
              "      <td>0.0</td>\n",
              "      <td>1</td>\n",
              "      <td>0</td>\n",
              "    </tr>\n",
              "    <tr>\n",
              "      <th>1</th>\n",
              "      <td>Home</td>\n",
              "      <td>468</td>\n",
              "      <td>4</td>\n",
              "      <td>2739</td>\n",
              "      <td>PayPal</td>\n",
              "      <td>37</td>\n",
              "      <td>0.0</td>\n",
              "      <td>1</td>\n",
              "      <td>0</td>\n",
              "    </tr>\n",
              "    <tr>\n",
              "      <th>2</th>\n",
              "      <td>Home</td>\n",
              "      <td>288</td>\n",
              "      <td>2</td>\n",
              "      <td>3196</td>\n",
              "      <td>PayPal</td>\n",
              "      <td>37</td>\n",
              "      <td>0.0</td>\n",
              "      <td>1</td>\n",
              "      <td>0</td>\n",
              "    </tr>\n",
              "    <tr>\n",
              "      <th>3</th>\n",
              "      <td>Clothing</td>\n",
              "      <td>196</td>\n",
              "      <td>1</td>\n",
              "      <td>3509</td>\n",
              "      <td>PayPal</td>\n",
              "      <td>37</td>\n",
              "      <td>0.0</td>\n",
              "      <td>1</td>\n",
              "      <td>0</td>\n",
              "    </tr>\n",
              "    <tr>\n",
              "      <th>4</th>\n",
              "      <td>Home</td>\n",
              "      <td>449</td>\n",
              "      <td>1</td>\n",
              "      <td>3452</td>\n",
              "      <td>Credit Card</td>\n",
              "      <td>49</td>\n",
              "      <td>0.0</td>\n",
              "      <td>0</td>\n",
              "      <td>1</td>\n",
              "    </tr>\n",
              "    <tr>\n",
              "      <th>...</th>\n",
              "      <td>...</td>\n",
              "      <td>...</td>\n",
              "      <td>...</td>\n",
              "      <td>...</td>\n",
              "      <td>...</td>\n",
              "      <td>...</td>\n",
              "      <td>...</td>\n",
              "      <td>...</td>\n",
              "      <td>...</td>\n",
              "    </tr>\n",
              "    <tr>\n",
              "      <th>249995</th>\n",
              "      <td>Clothing</td>\n",
              "      <td>279</td>\n",
              "      <td>2</td>\n",
              "      <td>2187</td>\n",
              "      <td>PayPal</td>\n",
              "      <td>55</td>\n",
              "      <td>1.0</td>\n",
              "      <td>1</td>\n",
              "      <td>1</td>\n",
              "    </tr>\n",
              "    <tr>\n",
              "      <th>249996</th>\n",
              "      <td>Home</td>\n",
              "      <td>27</td>\n",
              "      <td>1</td>\n",
              "      <td>3615</td>\n",
              "      <td>Credit Card</td>\n",
              "      <td>42</td>\n",
              "      <td>1.0</td>\n",
              "      <td>0</td>\n",
              "      <td>1</td>\n",
              "    </tr>\n",
              "    <tr>\n",
              "      <th>249997</th>\n",
              "      <td>Home</td>\n",
              "      <td>17</td>\n",
              "      <td>5</td>\n",
              "      <td>2466</td>\n",
              "      <td>Cash</td>\n",
              "      <td>41</td>\n",
              "      <td>0.0</td>\n",
              "      <td>1</td>\n",
              "      <td>0</td>\n",
              "    </tr>\n",
              "    <tr>\n",
              "      <th>249998</th>\n",
              "      <td>Books</td>\n",
              "      <td>398</td>\n",
              "      <td>2</td>\n",
              "      <td>3668</td>\n",
              "      <td>Crypto</td>\n",
              "      <td>34</td>\n",
              "      <td>0.0</td>\n",
              "      <td>0</td>\n",
              "      <td>1</td>\n",
              "    </tr>\n",
              "    <tr>\n",
              "      <th>249999</th>\n",
              "      <td>Electronics</td>\n",
              "      <td>425</td>\n",
              "      <td>4</td>\n",
              "      <td>2370</td>\n",
              "      <td>Cash</td>\n",
              "      <td>36</td>\n",
              "      <td>1.0</td>\n",
              "      <td>0</td>\n",
              "      <td>1</td>\n",
              "    </tr>\n",
              "  </tbody>\n",
              "</table>\n",
              "<p>202404 rows × 9 columns</p>\n",
              "</div>\n",
              "    <div class=\"colab-df-buttons\">\n",
              "\n",
              "  <div class=\"colab-df-container\">\n",
              "    <button class=\"colab-df-convert\" onclick=\"convertToInteractive('df-892d6ac6-b050-4f06-94e2-31a0d27f3b6d')\"\n",
              "            title=\"Convert this dataframe to an interactive table.\"\n",
              "            style=\"display:none;\">\n",
              "\n",
              "  <svg xmlns=\"http://www.w3.org/2000/svg\" height=\"24px\" viewBox=\"0 -960 960 960\">\n",
              "    <path d=\"M120-120v-720h720v720H120Zm60-500h600v-160H180v160Zm220 220h160v-160H400v160Zm0 220h160v-160H400v160ZM180-400h160v-160H180v160Zm440 0h160v-160H620v160ZM180-180h160v-160H180v160Zm440 0h160v-160H620v160Z\"/>\n",
              "  </svg>\n",
              "    </button>\n",
              "\n",
              "  <style>\n",
              "    .colab-df-container {\n",
              "      display:flex;\n",
              "      gap: 12px;\n",
              "    }\n",
              "\n",
              "    .colab-df-convert {\n",
              "      background-color: #E8F0FE;\n",
              "      border: none;\n",
              "      border-radius: 50%;\n",
              "      cursor: pointer;\n",
              "      display: none;\n",
              "      fill: #1967D2;\n",
              "      height: 32px;\n",
              "      padding: 0 0 0 0;\n",
              "      width: 32px;\n",
              "    }\n",
              "\n",
              "    .colab-df-convert:hover {\n",
              "      background-color: #E2EBFA;\n",
              "      box-shadow: 0px 1px 2px rgba(60, 64, 67, 0.3), 0px 1px 3px 1px rgba(60, 64, 67, 0.15);\n",
              "      fill: #174EA6;\n",
              "    }\n",
              "\n",
              "    .colab-df-buttons div {\n",
              "      margin-bottom: 4px;\n",
              "    }\n",
              "\n",
              "    [theme=dark] .colab-df-convert {\n",
              "      background-color: #3B4455;\n",
              "      fill: #D2E3FC;\n",
              "    }\n",
              "\n",
              "    [theme=dark] .colab-df-convert:hover {\n",
              "      background-color: #434B5C;\n",
              "      box-shadow: 0px 1px 3px 1px rgba(0, 0, 0, 0.15);\n",
              "      filter: drop-shadow(0px 1px 2px rgba(0, 0, 0, 0.3));\n",
              "      fill: #FFFFFF;\n",
              "    }\n",
              "  </style>\n",
              "\n",
              "    <script>\n",
              "      const buttonEl =\n",
              "        document.querySelector('#df-892d6ac6-b050-4f06-94e2-31a0d27f3b6d button.colab-df-convert');\n",
              "      buttonEl.style.display =\n",
              "        google.colab.kernel.accessAllowed ? 'block' : 'none';\n",
              "\n",
              "      async function convertToInteractive(key) {\n",
              "        const element = document.querySelector('#df-892d6ac6-b050-4f06-94e2-31a0d27f3b6d');\n",
              "        const dataTable =\n",
              "          await google.colab.kernel.invokeFunction('convertToInteractive',\n",
              "                                                    [key], {});\n",
              "        if (!dataTable) return;\n",
              "\n",
              "        const docLinkHtml = 'Like what you see? Visit the ' +\n",
              "          '<a target=\"_blank\" href=https://colab.research.google.com/notebooks/data_table.ipynb>data table notebook</a>'\n",
              "          + ' to learn more about interactive tables.';\n",
              "        element.innerHTML = '';\n",
              "        dataTable['output_type'] = 'display_data';\n",
              "        await google.colab.output.renderOutput(dataTable, element);\n",
              "        const docLink = document.createElement('div');\n",
              "        docLink.innerHTML = docLinkHtml;\n",
              "        element.appendChild(docLink);\n",
              "      }\n",
              "    </script>\n",
              "  </div>\n",
              "\n",
              "\n",
              "<div id=\"df-e56ae9ef-ab62-4a80-b1f6-ecb22982a4cb\">\n",
              "  <button class=\"colab-df-quickchart\" onclick=\"quickchart('df-e56ae9ef-ab62-4a80-b1f6-ecb22982a4cb')\"\n",
              "            title=\"Suggest charts.\"\n",
              "            style=\"display:none;\">\n",
              "\n",
              "<svg xmlns=\"http://www.w3.org/2000/svg\" height=\"24px\"viewBox=\"0 0 24 24\"\n",
              "     width=\"24px\">\n",
              "    <g>\n",
              "        <path d=\"M19 3H5c-1.1 0-2 .9-2 2v14c0 1.1.9 2 2 2h14c1.1 0 2-.9 2-2V5c0-1.1-.9-2-2-2zM9 17H7v-7h2v7zm4 0h-2V7h2v10zm4 0h-2v-4h2v4z\"/>\n",
              "    </g>\n",
              "</svg>\n",
              "  </button>\n",
              "\n",
              "<style>\n",
              "  .colab-df-quickchart {\n",
              "      --bg-color: #E8F0FE;\n",
              "      --fill-color: #1967D2;\n",
              "      --hover-bg-color: #E2EBFA;\n",
              "      --hover-fill-color: #174EA6;\n",
              "      --disabled-fill-color: #AAA;\n",
              "      --disabled-bg-color: #DDD;\n",
              "  }\n",
              "\n",
              "  [theme=dark] .colab-df-quickchart {\n",
              "      --bg-color: #3B4455;\n",
              "      --fill-color: #D2E3FC;\n",
              "      --hover-bg-color: #434B5C;\n",
              "      --hover-fill-color: #FFFFFF;\n",
              "      --disabled-bg-color: #3B4455;\n",
              "      --disabled-fill-color: #666;\n",
              "  }\n",
              "\n",
              "  .colab-df-quickchart {\n",
              "    background-color: var(--bg-color);\n",
              "    border: none;\n",
              "    border-radius: 50%;\n",
              "    cursor: pointer;\n",
              "    display: none;\n",
              "    fill: var(--fill-color);\n",
              "    height: 32px;\n",
              "    padding: 0;\n",
              "    width: 32px;\n",
              "  }\n",
              "\n",
              "  .colab-df-quickchart:hover {\n",
              "    background-color: var(--hover-bg-color);\n",
              "    box-shadow: 0 1px 2px rgba(60, 64, 67, 0.3), 0 1px 3px 1px rgba(60, 64, 67, 0.15);\n",
              "    fill: var(--button-hover-fill-color);\n",
              "  }\n",
              "\n",
              "  .colab-df-quickchart-complete:disabled,\n",
              "  .colab-df-quickchart-complete:disabled:hover {\n",
              "    background-color: var(--disabled-bg-color);\n",
              "    fill: var(--disabled-fill-color);\n",
              "    box-shadow: none;\n",
              "  }\n",
              "\n",
              "  .colab-df-spinner {\n",
              "    border: 2px solid var(--fill-color);\n",
              "    border-color: transparent;\n",
              "    border-bottom-color: var(--fill-color);\n",
              "    animation:\n",
              "      spin 1s steps(1) infinite;\n",
              "  }\n",
              "\n",
              "  @keyframes spin {\n",
              "    0% {\n",
              "      border-color: transparent;\n",
              "      border-bottom-color: var(--fill-color);\n",
              "      border-left-color: var(--fill-color);\n",
              "    }\n",
              "    20% {\n",
              "      border-color: transparent;\n",
              "      border-left-color: var(--fill-color);\n",
              "      border-top-color: var(--fill-color);\n",
              "    }\n",
              "    30% {\n",
              "      border-color: transparent;\n",
              "      border-left-color: var(--fill-color);\n",
              "      border-top-color: var(--fill-color);\n",
              "      border-right-color: var(--fill-color);\n",
              "    }\n",
              "    40% {\n",
              "      border-color: transparent;\n",
              "      border-right-color: var(--fill-color);\n",
              "      border-top-color: var(--fill-color);\n",
              "    }\n",
              "    60% {\n",
              "      border-color: transparent;\n",
              "      border-right-color: var(--fill-color);\n",
              "    }\n",
              "    80% {\n",
              "      border-color: transparent;\n",
              "      border-right-color: var(--fill-color);\n",
              "      border-bottom-color: var(--fill-color);\n",
              "    }\n",
              "    90% {\n",
              "      border-color: transparent;\n",
              "      border-bottom-color: var(--fill-color);\n",
              "    }\n",
              "  }\n",
              "</style>\n",
              "\n",
              "  <script>\n",
              "    async function quickchart(key) {\n",
              "      const quickchartButtonEl =\n",
              "        document.querySelector('#' + key + ' button');\n",
              "      quickchartButtonEl.disabled = true;  // To prevent multiple clicks.\n",
              "      quickchartButtonEl.classList.add('colab-df-spinner');\n",
              "      try {\n",
              "        const charts = await google.colab.kernel.invokeFunction(\n",
              "            'suggestCharts', [key], {});\n",
              "      } catch (error) {\n",
              "        console.error('Error during call to suggestCharts:', error);\n",
              "      }\n",
              "      quickchartButtonEl.classList.remove('colab-df-spinner');\n",
              "      quickchartButtonEl.classList.add('colab-df-quickchart-complete');\n",
              "    }\n",
              "    (() => {\n",
              "      let quickchartButtonEl =\n",
              "        document.querySelector('#df-e56ae9ef-ab62-4a80-b1f6-ecb22982a4cb button');\n",
              "      quickchartButtonEl.style.display =\n",
              "        google.colab.kernel.accessAllowed ? 'block' : 'none';\n",
              "    })();\n",
              "  </script>\n",
              "</div>\n",
              "    </div>\n",
              "  </div>\n"
            ]
          },
          "metadata": {},
          "execution_count": 21
        }
      ]
    },
    {
      "cell_type": "code",
      "source": [
        "cd_p['Payment Method'].value_counts()"
      ],
      "metadata": {
        "colab": {
          "base_uri": "https://localhost:8080/"
        },
        "id": "kWANYDGBABEY",
        "outputId": "0396fdc6-3db4-4b24-831b-70916804ca05"
      },
      "execution_count": null,
      "outputs": [
        {
          "output_type": "execute_result",
          "data": {
            "text/plain": [
              "Credit Card    81394\n",
              "PayPal         60603\n",
              "Cash           40406\n",
              "Crypto         20001\n",
              "Name: Payment Method, dtype: int64"
            ]
          },
          "metadata": {},
          "execution_count": 22
        }
      ]
    },
    {
      "cell_type": "code",
      "source": [
        "cd_p = pd.get_dummies(cd_p, columns=['Payment Method'])\n",
        "cd_p = pd.get_dummies(cd_p, columns=['Product Category'])"
      ],
      "metadata": {
        "id": "MNhIP2bAAIYJ"
      },
      "execution_count": null,
      "outputs": []
    },
    {
      "cell_type": "code",
      "source": [
        "cd_p.info()"
      ],
      "metadata": {
        "colab": {
          "base_uri": "https://localhost:8080/"
        },
        "id": "U3huR7q9A0RF",
        "outputId": "4341a8bf-8412-4eb7-ba28-b71587b21531"
      },
      "execution_count": null,
      "outputs": [
        {
          "output_type": "stream",
          "name": "stdout",
          "text": [
            "<class 'pandas.core.frame.DataFrame'>\n",
            "Int64Index: 202404 entries, 0 to 249999\n",
            "Data columns (total 15 columns):\n",
            " #   Column                        Non-Null Count   Dtype  \n",
            "---  ------                        --------------   -----  \n",
            " 0   Product Price                 202404 non-null  int64  \n",
            " 1   Quantity                      202404 non-null  int64  \n",
            " 2   Total Purchase Amount         202404 non-null  int64  \n",
            " 3   Customer Age                  202404 non-null  int64  \n",
            " 4   Returns                       202404 non-null  float64\n",
            " 5   Gender                        202404 non-null  int8   \n",
            " 6   Churn                         202404 non-null  int64  \n",
            " 7   Payment Method_Cash           202404 non-null  uint8  \n",
            " 8   Payment Method_Credit Card    202404 non-null  uint8  \n",
            " 9   Payment Method_Crypto         202404 non-null  uint8  \n",
            " 10  Payment Method_PayPal         202404 non-null  uint8  \n",
            " 11  Product Category_Books        202404 non-null  uint8  \n",
            " 12  Product Category_Clothing     202404 non-null  uint8  \n",
            " 13  Product Category_Electronics  202404 non-null  uint8  \n",
            " 14  Product Category_Home         202404 non-null  uint8  \n",
            "dtypes: float64(1), int64(5), int8(1), uint8(8)\n",
            "memory usage: 12.5 MB\n"
          ]
        }
      ]
    },
    {
      "cell_type": "markdown",
      "source": [
        "# Splitting Data & ANN"
      ],
      "metadata": {
        "id": "8y00EDsp6cFw"
      }
    },
    {
      "cell_type": "code",
      "source": [
        "import tensorflow as tf\n",
        "from sklearn.model_selection import train_test_split\n",
        "from sklearn.preprocessing import StandardScaler\n",
        "from tensorflow.keras.models import Sequential\n",
        "from tensorflow.keras.layers import Dense"
      ],
      "metadata": {
        "id": "ADZGR4sL6jnZ"
      },
      "execution_count": null,
      "outputs": []
    },
    {
      "cell_type": "code",
      "source": [
        "# Separate features (X) and target (y)\n",
        "X = cd_p.drop('Churn', axis=1)\n",
        "y = cd_p['Churn']"
      ],
      "metadata": {
        "id": "rZP8tRvVD60J"
      },
      "execution_count": null,
      "outputs": []
    },
    {
      "cell_type": "code",
      "source": [
        "# Step 1: Data Splitting\n",
        "X_train, X_test, y_train, y_test = train_test_split(X, y, test_size=0.2, random_state=42)\n"
      ],
      "metadata": {
        "id": "KWc7SKnc-We3"
      },
      "execution_count": null,
      "outputs": []
    },
    {
      "cell_type": "code",
      "source": [
        "scaler = StandardScaler()\n",
        "X_train = scaler.fit_transform(X_train)\n",
        "X_test = scaler.transform(X_test)"
      ],
      "metadata": {
        "id": "TIdiRC7dECD0"
      },
      "execution_count": null,
      "outputs": []
    },
    {
      "cell_type": "code",
      "source": [
        "def create_ann_model():\n",
        "    model = Sequential([\n",
        "        Dense(64, activation='relu', input_dim=X_train.shape[1]),  # Input layer with 128 neurons\n",
        "        Dense(32, activation='relu'),\n",
        "        Dense(1, activation='sigmoid')  # Output layer for binary classification\n",
        "    ])\n",
        "    return model"
      ],
      "metadata": {
        "id": "AIh0bmxYEEKi"
      },
      "execution_count": null,
      "outputs": []
    },
    {
      "cell_type": "code",
      "source": [
        "# Create the model\n",
        "ann_model = create_ann_model()\n",
        "\n",
        "# Step 4: Compile the Model\n",
        "ann_model.compile(optimizer='adam', loss='binary_crossentropy', metrics=['accuracy'])\n",
        "\n",
        "# Step 5: Train the Model\n",
        "ann_model.fit(X_train, y_train, epochs=100, batch_size=32, validation_split=0.1)  # Adjust epochs and batch_size as needed"
      ],
      "metadata": {
        "colab": {
          "base_uri": "https://localhost:8080/"
        },
        "id": "ftUcLMewEF6B",
        "outputId": "ab536773-12f2-497a-ea17-6bec393831de"
      },
      "execution_count": null,
      "outputs": [
        {
          "output_type": "stream",
          "name": "stdout",
          "text": [
            "Epoch 1/100\n",
            "4555/4555 [==============================] - 12s 2ms/step - loss: 0.5016 - accuracy: 0.8010 - val_loss: 0.4974 - val_accuracy: 0.8026\n",
            "Epoch 2/100\n",
            "4555/4555 [==============================] - 9s 2ms/step - loss: 0.4999 - accuracy: 0.8014 - val_loss: 0.4978 - val_accuracy: 0.8026\n",
            "Epoch 3/100\n",
            "4555/4555 [==============================] - 11s 2ms/step - loss: 0.4995 - accuracy: 0.8014 - val_loss: 0.4971 - val_accuracy: 0.8026\n",
            "Epoch 4/100\n",
            "4555/4555 [==============================] - 12s 3ms/step - loss: 0.4993 - accuracy: 0.8014 - val_loss: 0.4977 - val_accuracy: 0.8026\n",
            "Epoch 5/100\n",
            "4555/4555 [==============================] - 11s 2ms/step - loss: 0.4991 - accuracy: 0.8014 - val_loss: 0.4977 - val_accuracy: 0.8026\n",
            "Epoch 6/100\n",
            "4555/4555 [==============================] - 10s 2ms/step - loss: 0.4990 - accuracy: 0.8014 - val_loss: 0.4972 - val_accuracy: 0.8026\n",
            "Epoch 7/100\n",
            "4555/4555 [==============================] - 9s 2ms/step - loss: 0.4988 - accuracy: 0.8014 - val_loss: 0.4976 - val_accuracy: 0.8026\n",
            "Epoch 8/100\n",
            "4555/4555 [==============================] - 10s 2ms/step - loss: 0.4988 - accuracy: 0.8014 - val_loss: 0.4970 - val_accuracy: 0.8026\n",
            "Epoch 9/100\n",
            "4555/4555 [==============================] - 11s 2ms/step - loss: 0.4986 - accuracy: 0.8014 - val_loss: 0.4969 - val_accuracy: 0.8026\n",
            "Epoch 10/100\n",
            "4555/4555 [==============================] - 10s 2ms/step - loss: 0.4985 - accuracy: 0.8014 - val_loss: 0.4968 - val_accuracy: 0.8026\n",
            "Epoch 11/100\n",
            "4555/4555 [==============================] - 10s 2ms/step - loss: 0.4985 - accuracy: 0.8014 - val_loss: 0.4972 - val_accuracy: 0.8026\n",
            "Epoch 12/100\n",
            "4555/4555 [==============================] - 9s 2ms/step - loss: 0.4984 - accuracy: 0.8014 - val_loss: 0.4972 - val_accuracy: 0.8026\n",
            "Epoch 13/100\n",
            "4555/4555 [==============================] - 10s 2ms/step - loss: 0.4984 - accuracy: 0.8014 - val_loss: 0.4970 - val_accuracy: 0.8026\n",
            "Epoch 14/100\n",
            "4555/4555 [==============================] - 11s 2ms/step - loss: 0.4982 - accuracy: 0.8014 - val_loss: 0.4970 - val_accuracy: 0.8026\n",
            "Epoch 15/100\n",
            "4555/4555 [==============================] - 10s 2ms/step - loss: 0.4982 - accuracy: 0.8014 - val_loss: 0.4972 - val_accuracy: 0.8026\n",
            "Epoch 16/100\n",
            "4555/4555 [==============================] - 9s 2ms/step - loss: 0.4981 - accuracy: 0.8014 - val_loss: 0.4969 - val_accuracy: 0.8026\n",
            "Epoch 17/100\n",
            "4555/4555 [==============================] - 9s 2ms/step - loss: 0.4981 - accuracy: 0.8014 - val_loss: 0.4969 - val_accuracy: 0.8026\n",
            "Epoch 18/100\n",
            "4555/4555 [==============================] - 10s 2ms/step - loss: 0.4980 - accuracy: 0.8014 - val_loss: 0.4971 - val_accuracy: 0.8026\n",
            "Epoch 19/100\n",
            "4555/4555 [==============================] - 11s 2ms/step - loss: 0.4980 - accuracy: 0.8014 - val_loss: 0.4970 - val_accuracy: 0.8026\n",
            "Epoch 20/100\n",
            "4555/4555 [==============================] - 10s 2ms/step - loss: 0.4979 - accuracy: 0.8014 - val_loss: 0.4975 - val_accuracy: 0.8026\n",
            "Epoch 21/100\n",
            "4555/4555 [==============================] - 10s 2ms/step - loss: 0.4978 - accuracy: 0.8014 - val_loss: 0.4970 - val_accuracy: 0.8026\n",
            "Epoch 22/100\n",
            "4555/4555 [==============================] - 10s 2ms/step - loss: 0.4977 - accuracy: 0.8014 - val_loss: 0.4975 - val_accuracy: 0.8026\n",
            "Epoch 23/100\n",
            "4555/4555 [==============================] - 10s 2ms/step - loss: 0.4976 - accuracy: 0.8014 - val_loss: 0.4977 - val_accuracy: 0.8026\n",
            "Epoch 24/100\n",
            "4555/4555 [==============================] - 10s 2ms/step - loss: 0.4976 - accuracy: 0.8014 - val_loss: 0.4973 - val_accuracy: 0.8026\n",
            "Epoch 25/100\n",
            "4555/4555 [==============================] - 10s 2ms/step - loss: 0.4975 - accuracy: 0.8014 - val_loss: 0.4978 - val_accuracy: 0.8026\n",
            "Epoch 26/100\n",
            "4555/4555 [==============================] - 10s 2ms/step - loss: 0.4974 - accuracy: 0.8014 - val_loss: 0.4978 - val_accuracy: 0.8026\n",
            "Epoch 27/100\n",
            "4555/4555 [==============================] - 10s 2ms/step - loss: 0.4973 - accuracy: 0.8014 - val_loss: 0.4975 - val_accuracy: 0.8026\n",
            "Epoch 28/100\n",
            "4555/4555 [==============================] - 10s 2ms/step - loss: 0.4973 - accuracy: 0.8014 - val_loss: 0.4976 - val_accuracy: 0.8026\n",
            "Epoch 29/100\n",
            "4555/4555 [==============================] - 10s 2ms/step - loss: 0.4973 - accuracy: 0.8014 - val_loss: 0.4977 - val_accuracy: 0.8026\n",
            "Epoch 30/100\n",
            "4555/4555 [==============================] - 10s 2ms/step - loss: 0.4971 - accuracy: 0.8013 - val_loss: 0.4978 - val_accuracy: 0.8026\n",
            "Epoch 31/100\n",
            "4555/4555 [==============================] - 11s 2ms/step - loss: 0.4971 - accuracy: 0.8014 - val_loss: 0.4977 - val_accuracy: 0.8026\n",
            "Epoch 32/100\n",
            "4555/4555 [==============================] - 10s 2ms/step - loss: 0.4970 - accuracy: 0.8014 - val_loss: 0.4976 - val_accuracy: 0.8026\n",
            "Epoch 33/100\n",
            "4555/4555 [==============================] - 10s 2ms/step - loss: 0.4969 - accuracy: 0.8014 - val_loss: 0.4983 - val_accuracy: 0.8026\n",
            "Epoch 34/100\n",
            "4555/4555 [==============================] - 9s 2ms/step - loss: 0.4968 - accuracy: 0.8014 - val_loss: 0.4978 - val_accuracy: 0.8026\n",
            "Epoch 35/100\n",
            "4555/4555 [==============================] - 10s 2ms/step - loss: 0.4968 - accuracy: 0.8014 - val_loss: 0.4983 - val_accuracy: 0.8026\n",
            "Epoch 36/100\n",
            "4555/4555 [==============================] - 10s 2ms/step - loss: 0.4967 - accuracy: 0.8014 - val_loss: 0.4981 - val_accuracy: 0.8026\n",
            "Epoch 37/100\n",
            "4555/4555 [==============================] - 10s 2ms/step - loss: 0.4966 - accuracy: 0.8014 - val_loss: 0.4981 - val_accuracy: 0.8026\n",
            "Epoch 38/100\n",
            "4555/4555 [==============================] - 9s 2ms/step - loss: 0.4966 - accuracy: 0.8014 - val_loss: 0.4981 - val_accuracy: 0.8026\n",
            "Epoch 39/100\n",
            "4555/4555 [==============================] - 10s 2ms/step - loss: 0.4966 - accuracy: 0.8014 - val_loss: 0.4984 - val_accuracy: 0.8026\n",
            "Epoch 40/100\n",
            "4555/4555 [==============================] - 10s 2ms/step - loss: 0.4964 - accuracy: 0.8014 - val_loss: 0.4985 - val_accuracy: 0.8026\n",
            "Epoch 41/100\n",
            "4555/4555 [==============================] - 10s 2ms/step - loss: 0.4964 - accuracy: 0.8014 - val_loss: 0.4984 - val_accuracy: 0.8026\n",
            "Epoch 42/100\n",
            "4555/4555 [==============================] - 9s 2ms/step - loss: 0.4963 - accuracy: 0.8014 - val_loss: 0.4986 - val_accuracy: 0.8026\n",
            "Epoch 43/100\n",
            "4555/4555 [==============================] - 10s 2ms/step - loss: 0.4963 - accuracy: 0.8014 - val_loss: 0.4981 - val_accuracy: 0.8026\n",
            "Epoch 44/100\n",
            "4555/4555 [==============================] - 10s 2ms/step - loss: 0.4962 - accuracy: 0.8014 - val_loss: 0.4983 - val_accuracy: 0.8026\n",
            "Epoch 45/100\n",
            "4555/4555 [==============================] - 10s 2ms/step - loss: 0.4960 - accuracy: 0.8014 - val_loss: 0.4987 - val_accuracy: 0.8026\n",
            "Epoch 46/100\n",
            "4555/4555 [==============================] - 9s 2ms/step - loss: 0.4961 - accuracy: 0.8013 - val_loss: 0.4991 - val_accuracy: 0.8026\n",
            "Epoch 47/100\n",
            "4555/4555 [==============================] - 11s 2ms/step - loss: 0.4961 - accuracy: 0.8014 - val_loss: 0.4992 - val_accuracy: 0.8026\n",
            "Epoch 48/100\n",
            "4555/4555 [==============================] - 10s 2ms/step - loss: 0.4961 - accuracy: 0.8014 - val_loss: 0.4989 - val_accuracy: 0.8026\n",
            "Epoch 49/100\n",
            "4555/4555 [==============================] - 10s 2ms/step - loss: 0.4960 - accuracy: 0.8013 - val_loss: 0.4990 - val_accuracy: 0.8026\n",
            "Epoch 50/100\n",
            "4555/4555 [==============================] - 9s 2ms/step - loss: 0.4958 - accuracy: 0.8014 - val_loss: 0.4989 - val_accuracy: 0.8026\n",
            "Epoch 51/100\n",
            "4555/4555 [==============================] - 10s 2ms/step - loss: 0.4958 - accuracy: 0.8014 - val_loss: 0.4991 - val_accuracy: 0.8026\n",
            "Epoch 52/100\n",
            "4555/4555 [==============================] - 10s 2ms/step - loss: 0.4958 - accuracy: 0.8013 - val_loss: 0.4992 - val_accuracy: 0.8026\n",
            "Epoch 53/100\n",
            "4555/4555 [==============================] - 10s 2ms/step - loss: 0.4958 - accuracy: 0.8014 - val_loss: 0.4992 - val_accuracy: 0.8026\n",
            "Epoch 54/100\n",
            "4555/4555 [==============================] - 9s 2ms/step - loss: 0.4957 - accuracy: 0.8014 - val_loss: 0.4996 - val_accuracy: 0.8026\n",
            "Epoch 55/100\n",
            "4555/4555 [==============================] - 10s 2ms/step - loss: 0.4956 - accuracy: 0.8014 - val_loss: 0.4989 - val_accuracy: 0.8026\n",
            "Epoch 56/100\n",
            "4555/4555 [==============================] - 10s 2ms/step - loss: 0.4956 - accuracy: 0.8014 - val_loss: 0.4995 - val_accuracy: 0.8026\n",
            "Epoch 57/100\n",
            "4555/4555 [==============================] - 11s 2ms/step - loss: 0.4955 - accuracy: 0.8014 - val_loss: 0.4987 - val_accuracy: 0.8026\n",
            "Epoch 58/100\n",
            "4555/4555 [==============================] - 9s 2ms/step - loss: 0.4955 - accuracy: 0.8014 - val_loss: 0.4994 - val_accuracy: 0.8026\n",
            "Epoch 59/100\n",
            "4555/4555 [==============================] - 10s 2ms/step - loss: 0.4954 - accuracy: 0.8014 - val_loss: 0.4991 - val_accuracy: 0.8026\n",
            "Epoch 60/100\n",
            "4555/4555 [==============================] - 10s 2ms/step - loss: 0.4954 - accuracy: 0.8013 - val_loss: 0.4988 - val_accuracy: 0.8026\n",
            "Epoch 61/100\n",
            "4555/4555 [==============================] - 10s 2ms/step - loss: 0.4953 - accuracy: 0.8014 - val_loss: 0.4990 - val_accuracy: 0.8026\n",
            "Epoch 62/100\n",
            "4555/4555 [==============================] - 11s 2ms/step - loss: 0.4952 - accuracy: 0.8014 - val_loss: 0.5002 - val_accuracy: 0.8026\n",
            "Epoch 63/100\n",
            "4555/4555 [==============================] - 10s 2ms/step - loss: 0.4953 - accuracy: 0.8013 - val_loss: 0.4994 - val_accuracy: 0.8026\n",
            "Epoch 64/100\n",
            "4555/4555 [==============================] - 11s 2ms/step - loss: 0.4952 - accuracy: 0.8014 - val_loss: 0.4996 - val_accuracy: 0.8023\n",
            "Epoch 65/100\n",
            "4555/4555 [==============================] - 11s 2ms/step - loss: 0.4952 - accuracy: 0.8013 - val_loss: 0.4994 - val_accuracy: 0.8026\n",
            "Epoch 66/100\n",
            "4555/4555 [==============================] - 11s 2ms/step - loss: 0.4952 - accuracy: 0.8013 - val_loss: 0.4999 - val_accuracy: 0.8026\n",
            "Epoch 67/100\n",
            "4555/4555 [==============================] - 10s 2ms/step - loss: 0.4951 - accuracy: 0.8013 - val_loss: 0.4995 - val_accuracy: 0.8026\n",
            "Epoch 68/100\n",
            "4555/4555 [==============================] - 10s 2ms/step - loss: 0.4950 - accuracy: 0.8013 - val_loss: 0.4999 - val_accuracy: 0.8026\n",
            "Epoch 69/100\n",
            "4555/4555 [==============================] - 11s 2ms/step - loss: 0.4950 - accuracy: 0.8013 - val_loss: 0.4998 - val_accuracy: 0.8026\n",
            "Epoch 70/100\n",
            "4555/4555 [==============================] - 11s 2ms/step - loss: 0.4950 - accuracy: 0.8014 - val_loss: 0.4998 - val_accuracy: 0.8026\n",
            "Epoch 71/100\n",
            "4555/4555 [==============================] - 11s 2ms/step - loss: 0.4948 - accuracy: 0.8013 - val_loss: 0.4998 - val_accuracy: 0.8026\n",
            "Epoch 72/100\n",
            "4555/4555 [==============================] - 10s 2ms/step - loss: 0.4947 - accuracy: 0.8013 - val_loss: 0.4995 - val_accuracy: 0.8026\n",
            "Epoch 73/100\n",
            "4555/4555 [==============================] - 10s 2ms/step - loss: 0.4948 - accuracy: 0.8013 - val_loss: 0.5004 - val_accuracy: 0.8024\n",
            "Epoch 74/100\n",
            "4555/4555 [==============================] - 9s 2ms/step - loss: 0.4947 - accuracy: 0.8013 - val_loss: 0.4999 - val_accuracy: 0.8026\n",
            "Epoch 75/100\n",
            "4555/4555 [==============================] - 10s 2ms/step - loss: 0.4947 - accuracy: 0.8014 - val_loss: 0.4998 - val_accuracy: 0.8026\n",
            "Epoch 76/100\n",
            "4555/4555 [==============================] - 10s 2ms/step - loss: 0.4948 - accuracy: 0.8013 - val_loss: 0.4996 - val_accuracy: 0.8026\n",
            "Epoch 77/100\n",
            "4555/4555 [==============================] - 9s 2ms/step - loss: 0.4947 - accuracy: 0.8014 - val_loss: 0.4998 - val_accuracy: 0.8026\n",
            "Epoch 78/100\n",
            "4555/4555 [==============================] - 10s 2ms/step - loss: 0.4946 - accuracy: 0.8013 - val_loss: 0.5002 - val_accuracy: 0.8026\n",
            "Epoch 79/100\n",
            "4555/4555 [==============================] - 10s 2ms/step - loss: 0.4946 - accuracy: 0.8013 - val_loss: 0.5004 - val_accuracy: 0.8026\n",
            "Epoch 80/100\n",
            "4555/4555 [==============================] - 10s 2ms/step - loss: 0.4945 - accuracy: 0.8014 - val_loss: 0.4999 - val_accuracy: 0.8026\n",
            "Epoch 81/100\n",
            "4555/4555 [==============================] - 10s 2ms/step - loss: 0.4945 - accuracy: 0.8013 - val_loss: 0.4999 - val_accuracy: 0.8025\n",
            "Epoch 82/100\n",
            "4555/4555 [==============================] - 9s 2ms/step - loss: 0.4945 - accuracy: 0.8013 - val_loss: 0.4997 - val_accuracy: 0.8026\n",
            "Epoch 83/100\n",
            "4555/4555 [==============================] - 11s 2ms/step - loss: 0.4945 - accuracy: 0.8013 - val_loss: 0.4999 - val_accuracy: 0.8026\n",
            "Epoch 84/100\n",
            "4555/4555 [==============================] - 10s 2ms/step - loss: 0.4944 - accuracy: 0.8014 - val_loss: 0.5003 - val_accuracy: 0.8024\n",
            "Epoch 85/100\n",
            "4555/4555 [==============================] - 10s 2ms/step - loss: 0.4945 - accuracy: 0.8013 - val_loss: 0.5014 - val_accuracy: 0.8026\n",
            "Epoch 86/100\n",
            "4555/4555 [==============================] - 10s 2ms/step - loss: 0.4944 - accuracy: 0.8013 - val_loss: 0.5007 - val_accuracy: 0.8026\n",
            "Epoch 87/100\n",
            "4555/4555 [==============================] - 10s 2ms/step - loss: 0.4943 - accuracy: 0.8014 - val_loss: 0.5001 - val_accuracy: 0.8024\n",
            "Epoch 88/100\n",
            "4555/4555 [==============================] - 11s 2ms/step - loss: 0.4942 - accuracy: 0.8014 - val_loss: 0.5005 - val_accuracy: 0.8026\n",
            "Epoch 89/100\n",
            "4555/4555 [==============================] - 11s 2ms/step - loss: 0.4943 - accuracy: 0.8013 - val_loss: 0.5001 - val_accuracy: 0.8025\n",
            "Epoch 90/100\n",
            "4555/4555 [==============================] - 11s 2ms/step - loss: 0.4942 - accuracy: 0.8013 - val_loss: 0.4998 - val_accuracy: 0.8024\n",
            "Epoch 91/100\n",
            "4555/4555 [==============================] - 10s 2ms/step - loss: 0.4942 - accuracy: 0.8013 - val_loss: 0.5004 - val_accuracy: 0.8025\n",
            "Epoch 92/100\n",
            "4555/4555 [==============================] - 9s 2ms/step - loss: 0.4940 - accuracy: 0.8013 - val_loss: 0.5008 - val_accuracy: 0.8023\n",
            "Epoch 93/100\n",
            "4555/4555 [==============================] - 11s 2ms/step - loss: 0.4941 - accuracy: 0.8013 - val_loss: 0.4997 - val_accuracy: 0.8022\n",
            "Epoch 94/100\n",
            "4555/4555 [==============================] - 10s 2ms/step - loss: 0.4941 - accuracy: 0.8013 - val_loss: 0.4999 - val_accuracy: 0.8026\n",
            "Epoch 95/100\n",
            "4555/4555 [==============================] - 11s 2ms/step - loss: 0.4940 - accuracy: 0.8013 - val_loss: 0.4999 - val_accuracy: 0.8026\n",
            "Epoch 96/100\n",
            "4555/4555 [==============================] - 10s 2ms/step - loss: 0.4940 - accuracy: 0.8013 - val_loss: 0.4998 - val_accuracy: 0.8024\n",
            "Epoch 97/100\n",
            "4555/4555 [==============================] - 10s 2ms/step - loss: 0.4939 - accuracy: 0.8013 - val_loss: 0.5003 - val_accuracy: 0.8021\n",
            "Epoch 98/100\n",
            "4555/4555 [==============================] - 10s 2ms/step - loss: 0.4939 - accuracy: 0.8014 - val_loss: 0.5013 - val_accuracy: 0.8025\n",
            "Epoch 99/100\n",
            "4555/4555 [==============================] - 11s 2ms/step - loss: 0.4938 - accuracy: 0.8013 - val_loss: 0.5002 - val_accuracy: 0.8026\n",
            "Epoch 100/100\n",
            "4555/4555 [==============================] - 10s 2ms/step - loss: 0.4938 - accuracy: 0.8013 - val_loss: 0.5007 - val_accuracy: 0.8023\n"
          ]
        },
        {
          "output_type": "execute_result",
          "data": {
            "text/plain": [
              "<keras.src.callbacks.History at 0x7c6815c8ce50>"
            ]
          },
          "metadata": {},
          "execution_count": 38
        }
      ]
    },
    {
      "cell_type": "code",
      "source": [],
      "metadata": {
        "id": "bWu6-EHTESAZ"
      },
      "execution_count": null,
      "outputs": []
    }
  ]
}